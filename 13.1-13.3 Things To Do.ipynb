{
 "cells": [
  {
   "cell_type": "code",
   "execution_count": null,
   "id": "882e87a2-3168-404a-b152-799b48f9a379",
   "metadata": {},
   "outputs": [],
   "source": [
    "# Dakota Wrigley \n",
    "# Chapter 13 'Things To Do'\n",
    "\n",
    "from datetime import date\n",
    "now = date.today()\n",
    "\n",
    "# 13.1 Write the current date as a string to the text file today.txt.\n",
    "with open('today.txt', 'w') as f:\n",
    "    f.write(str(now))\n",
    "\n",
    "# 13.2 Read the text file today.txt into the string today_string.\n",
    "with open('today.txt', 'r') as f:\n",
    "    today_string = f.read()\n",
    "\n",
    "# 13.3 Parse the date from today_string.\n",
    "print(now)"
   ]
  }
 ],
 "metadata": {
  "kernelspec": {
   "display_name": "Python 3 (ipykernel)",
   "language": "python",
   "name": "python3"
  },
  "language_info": {
   "codemirror_mode": {
    "name": "ipython",
    "version": 3
   },
   "file_extension": ".py",
   "mimetype": "text/x-python",
   "name": "python",
   "nbconvert_exporter": "python",
   "pygments_lexer": "ipython3",
   "version": "3.11.7"
  }
 },
 "nbformat": 4,
 "nbformat_minor": 5
}
