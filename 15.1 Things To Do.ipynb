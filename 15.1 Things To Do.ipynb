{
 "cells": [
  {
   "cell_type": "code",
   "execution_count": null,
   "id": "b1c35480-84fe-4f5e-8bd6-280ead16665b",
   "metadata": {},
   "outputs": [],
   "source": [
    "# Dakota Wrigley\n",
    "# 15.1 'Things To Do'\n",
    "\n",
    "''' Use multiprocessing to create three separate processes. \n",
    "Make each one wait a random number of seconds between zero \n",
    "and one, print the current time, and then exit.'''\n",
    "\n",
    "import multiprocessing\n",
    "from datetime import datetime\n",
    "import time\n",
    "import random as rand\n",
    "\n",
    "def wait_time():\n",
    "    cycle = rand.random()\n",
    "    time.sleep(cycle)\n",
    "    timestamp = datetime.now().strftime('%H:%M:%S')\n",
    "    print(timestamp)\n",
    "\n",
    "if __name__ == \"__main__\":\n",
    "    for num in range(3):\n",
    "        single_process = multiprocessing.Process(target = wait_time)\n",
    "        single_process.start()"
   ]
  }
 ],
 "metadata": {
  "kernelspec": {
   "display_name": "Python 3 (ipykernel)",
   "language": "python",
   "name": "python3"
  },
  "language_info": {
   "codemirror_mode": {
    "name": "ipython",
    "version": 3
   },
   "file_extension": ".py",
   "mimetype": "text/x-python",
   "name": "python",
   "nbconvert_exporter": "python",
   "pygments_lexer": "ipython3",
   "version": "3.11.7"
  }
 },
 "nbformat": 4,
 "nbformat_minor": 5
}
